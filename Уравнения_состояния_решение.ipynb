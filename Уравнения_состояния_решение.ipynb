{
  "nbformat": 4,
  "nbformat_minor": 0,
  "metadata": {
    "colab": {
      "name": "Уравнения состояния_решение.ipynb",
      "provenance": [],
      "collapsed_sections": [],
      "include_colab_link": true
    },
    "kernelspec": {
      "name": "python3",
      "display_name": "Python 3"
    }
  },
  "cells": [
    {
      "cell_type": "markdown",
      "metadata": {
        "id": "view-in-github",
        "colab_type": "text"
      },
      "source": [
        "<a href=\"https://colab.research.google.com/github/vesnin41/thermodynamics/blob/main/%D0%A3%D1%80%D0%B0%D0%B2%D0%BD%D0%B5%D0%BD%D0%B8%D1%8F_%D1%81%D0%BE%D1%81%D1%82%D0%BE%D1%8F%D0%BD%D0%B8%D1%8F_%D1%80%D0%B5%D1%88%D0%B5%D0%BD%D0%B8%D0%B5.ipynb\" target=\"_parent\"><img src=\"https://colab.research.google.com/assets/colab-badge.svg\" alt=\"Open In Colab\"/></a>"
      ]
    },
    {
      "cell_type": "markdown",
      "metadata": {
        "id": "qJ_dIpqWfilp"
      },
      "source": [
        "# Уравнение Ван дер Ваальса"
      ]
    },
    {
      "cell_type": "code",
      "metadata": {
        "id": "0F2FyRn4f4Y5"
      },
      "source": [
        "# импорты библиотек\n",
        "import matplotlib.pyplot as plt\n",
        "import numpy as np\n",
        "import pandas as pd"
      ],
      "execution_count": null,
      "outputs": []
    },
    {
      "cell_type": "markdown",
      "metadata": {
        "id": "qrqSKT3qjbSe"
      },
      "source": [
        "Уравнение Ван дер Ваальса: $(p+aN^2/V^2)(V-Nb)=NRT$\n",
        "\n",
        "\n",
        "$\\frac{aN^2}{V^2}$ - характеризует внутреннее давление газа или жидкости вследствие сил сцепления между молекулами;\n",
        "\n",
        "$Nb$ - учитывает уменьшение объема в котором движется молекула реального газа, за счет объема самих молекул и объема промежутков при их плотной упаковке.\n",
        "\n",
        "|Вещество       | Формула  | a,$\\frac{атм\\cdot л^2}{моль^2}$ | b,$\\frac{л}{моль}$ |\n",
        "| -------------- |:--------:| ----------:| --------:|\n",
        "| Ацетилен       | $C_2H_2$ | 4,40       | 0,0514   |\n",
        "| Аммиак         | $NH_3$   | 4,18       | 0,0371   |\n",
        "| Аргон          | $Ar$     | 1,34       | 0,0322   |\n",
        "|Диоксид углерода| $CO_2$   | 3,59       | 0,0427   |\n",
        "|Монооксид углерода| $CO$   | 1,49       | 0,0399   |\n",
        "| Хлор             | $Cl$   | 6,51       | 0,0562   |\n",
        "| Диметиловый эфир |$(CH_3)_2O$| 17,42   | 0,1344   |\n",
        "| Гелий            | $He$   | 0,034      | 0,0237   |\n",
        "| Водород          | $H_2$  | 0,244      | 0,0266   |\n",
        "| Хлористый водород| $HCl$  | 3,67       | 0,0408   |\n",
        "| Метан            | $CH_4$ | 2,25       | 0,0428   |\n",
        "|Монооксид азота   | $NO$   | 1,34       | 0,0279   |\n",
        "| Азот             | $N_2$  | 1,39       | 0,0391   |\n",
        "|Диоксид азота     | $NO_2$ | 5,28       | 0,0442   |\n",
        "| Кислород         | $O_2$  | 1.36       | 0,0318   |\n",
        "| Диоксид серы     | $SO_2$ | 6,71       | 0,0564   |\n",
        "| Вода             | $H_2O$ | 5,45       | 0,0305   |\n",
        "\n",
        "\n"
      ]
    },
    {
      "cell_type": "markdown",
      "metadata": {
        "id": "juoCCB8Sfv1E"
      },
      "source": [
        "Уравнение Ван дер Ваальса при N=1"
      ]
    },
    {
      "cell_type": "code",
      "metadata": {
        "id": "RTRSxuUKffua"
      },
      "source": [
        "# Значения a и b CO_2\n",
        "a = 3.59   # л^2*атм/моль^2\n",
        "b = 0.0427   # л/моль^1\n",
        "R = 0.0831   # л*атм/(моль*К)"
      ],
      "execution_count": null,
      "outputs": []
    },
    {
      "cell_type": "code",
      "metadata": {
        "id": "V4RGAKLtf15V"
      },
      "source": [
        "p_VW = lambda V,T: R*T/(V-b) - a/(V**2)\n",
        "p_ID = lambda V,T: R*T/V\n",
        "Tc = (8/27)*(a/(R*b))"
      ],
      "execution_count": null,
      "outputs": []
    },
    {
      "cell_type": "markdown",
      "metadata": {
        "id": "bmZ1nev8HKgz"
      },
      "source": [
        "Расчет при V=1,5 л; T=300 K."
      ]
    },
    {
      "cell_type": "code",
      "metadata": {
        "colab": {
          "base_uri": "https://localhost:8080/"
        },
        "id": "Kw3XibgHoVAH",
        "outputId": "76792e7e-5e52-4c37-e247-ac2e44648b37"
      },
      "source": [
        "p_VW(1.5, 300)"
      ],
      "execution_count": null,
      "outputs": [
        {
          "output_type": "execute_result",
          "data": {
            "text/plain": [
              "15.51142310360865"
            ]
          },
          "metadata": {
            "tags": []
          },
          "execution_count": 4
        }
      ]
    },
    {
      "cell_type": "code",
      "metadata": {
        "colab": {
          "base_uri": "https://localhost:8080/"
        },
        "id": "Aiw4kF0Gol8h",
        "outputId": "7dadf0c6-41f4-41ad-8e24-3725e95771c3"
      },
      "source": [
        "p_ID(1.5, 300)"
      ],
      "execution_count": null,
      "outputs": [
        {
          "output_type": "execute_result",
          "data": {
            "text/plain": [
              "16.62"
            ]
          },
          "metadata": {
            "tags": []
          },
          "execution_count": 5
        }
      ]
    },
    {
      "cell_type": "code",
      "metadata": {
        "colab": {
          "base_uri": "https://localhost:8080/"
        },
        "id": "CZ6mxtvWtQ3M",
        "outputId": "657d7fbe-030a-48c4-ddb0-3ac36ccdc883"
      },
      "source": [
        "Tc"
      ],
      "execution_count": null,
      "outputs": [
        {
          "output_type": "execute_result",
          "data": {
            "text/plain": [
              "299.77248812939564"
            ]
          },
          "metadata": {
            "tags": []
          },
          "execution_count": 6
        }
      ]
    },
    {
      "cell_type": "markdown",
      "metadata": {
        "id": "KugTWN2VHj9S"
      },
      "source": [
        "Изотермы Ван дер Ваальса:"
      ]
    },
    {
      "cell_type": "code",
      "metadata": {
        "id": "JrjvhQHQtljw"
      },
      "source": [
        "V = np.arange(0.05, 0.3, 0.001)"
      ],
      "execution_count": null,
      "outputs": []
    },
    {
      "cell_type": "code",
      "metadata": {
        "colab": {
          "base_uri": "https://localhost:8080/",
          "height": 459
        },
        "id": "3pVZzaj0uLTt",
        "outputId": "c82092a8-cf32-4222-f748-223ada10bea8"
      },
      "source": [
        "plt.figure(figsize=(15,7))\n",
        "plt.plot(V, p_VW(V, 320), label='ВДВ: T=320 K')\n",
        "# plt.plot(V, p_VW(V, 128))\n",
        "# plt.plot(V, p_VW(V, 150))\n",
        "# plt.plot(V, p_VW(V, 1040))\n",
        "plt.plot(V, p_ID(V,320), label='ИД: T=320 К')\n",
        "\n",
        "plt.legend()\n",
        "plt.xlabel('V, л')\n",
        "plt.ylabel('p, атм')"
      ],
      "execution_count": null,
      "outputs": [
        {
          "output_type": "execute_result",
          "data": {
            "text/plain": [
              "Text(0, 0.5, 'p, атм')"
            ]
          },
          "metadata": {
            "tags": []
          },
          "execution_count": 8
        },
        {
          "output_type": "display_data",
          "data": {
            "image/png": "[encoded data removed]",
            "text/plain": [
              "<Figure size 1080x504 with 1 Axes>"
            ]
          },
          "metadata": {
            "tags": [],
            "needs_background": "light"
          }
        }
      ]
    },
    {
      "cell_type": "code",
      "metadata": {
        "colab": {
          "base_uri": "https://localhost:8080/",
          "height": 459
        },
        "id": "QVZAjJrKwsnb",
        "outputId": "63d48a06-aec3-4643-d8ef-5d1f9a912029"
      },
      "source": [
        "plt.figure(figsize=(15,7))\n",
        "plt.plot(V, p_VW(V, 320), label='ВДВ: T=320 K')\n",
        "plt.plot(V, p_VW(V, 128), label='ВДВ: T=128 K')\n",
        "plt.plot(V, p_VW(V, 150), label='ВДВ: T=150 K')\n",
        "plt.plot(V, p_VW(V, 1040),label='ВДВ: T=1024 K')\n",
        "\n",
        "plt.legend()\n",
        "plt.xlabel('V, л')\n",
        "plt.ylabel('p, атм')"
      ],
      "execution_count": null,
      "outputs": [
        {
          "output_type": "execute_result",
          "data": {
            "text/plain": [
              "Text(0, 0.5, 'p, атм')"
            ]
          },
          "metadata": {
            "tags": []
          },
          "execution_count": 9
        },
        {
          "output_type": "display_data",
          "data": {
            "image/png": "[encoded data removed]",
            "text/plain": [
              "<Figure size 1080x504 with 1 Axes>"
            ]
          },
          "metadata": {
            "tags": [],
            "needs_background": "light"
          }
        }
      ]
    },
    {
      "cell_type": "code",
      "metadata": {
        "id": "kSFroKICJYA7"
      },
      "source": [
        "V = np.arange(1, 3, 0.005)"
      ],
      "execution_count": null,
      "outputs": []
    },
    {
      "cell_type": "code",
      "metadata": {
        "colab": {
          "base_uri": "https://localhost:8080/",
          "height": 442
        },
        "id": "PzrwmFJvJ2-h",
        "outputId": "39167e2a-d86f-4f6a-e786-dfa93dc20d35"
      },
      "source": [
        "plt.figure(figsize=(15,7))\n",
        "plt.plot(V, p_VW(V, 1040),label='ВДВ: T=1024 K')\n",
        "plt.plot(V, p_VW(V, 320), label='ВДВ: T=320 K')\n",
        "plt.plot(V, p_VW(V, 150), label='ВДВ: T=150 K')\n",
        "plt.plot(V, p_VW(V, 128), label='ВДВ: T=128 K')\n",
        "\n",
        "plt.legend()\n",
        "plt.xlabel('V, л')\n",
        "plt.ylabel('p, атм');"
      ],
      "execution_count": null,
      "outputs": [
        {
          "output_type": "display_data",
          "data": {
            "image/png": "[encoded data removed]",
            "text/plain": [
              "<Figure size 1080x504 with 1 Axes>"
            ]
          },
          "metadata": {
            "tags": [],
            "needs_background": "light"
          }
        }
      ]
    },
    {
      "cell_type": "code",
      "metadata": {
        "id": "I_RDL4JFJ9DB"
      },
      "source": [
        "V = np.arange(0.01, 0.3, 0.001)"
      ],
      "execution_count": null,
      "outputs": []
    },
    {
      "cell_type": "code",
      "metadata": {
        "colab": {
          "base_uri": "https://localhost:8080/",
          "height": 442
        },
        "id": "7wbDSF_nKPgK",
        "outputId": "62384c27-81db-4084-dc08-3dc8cc15d748"
      },
      "source": [
        "plt.figure(figsize=(15,7))\n",
        "plt.plot(V, p_VW(V, 1040),label='ВДВ: T=1024 K')\n",
        "plt.plot(V, p_VW(V, 320), label='ВДВ: T=320 K')\n",
        "plt.plot(V, p_VW(V, 150), label='ВДВ: T=150 K')\n",
        "plt.plot(V, p_VW(V, 128), label='ВДВ: T=128 K')\n",
        "\n",
        "plt.legend()\n",
        "plt.xlabel('V, л')\n",
        "plt.ylabel('p, атм');"
      ],
      "execution_count": null,
      "outputs": [
        {
          "output_type": "display_data",
          "data": {
            "image/png": "[encoded data removed]",
            "text/plain": [
              "<Figure size 1080x504 with 1 Axes>"
            ]
          },
          "metadata": {
            "tags": [],
            "needs_background": "light"
          }
        }
      ]
    },
    {
      "cell_type": "markdown",
      "metadata": {
        "id": "3RA38QfvL_uB"
      },
      "source": [
        "**Задача**\n",
        "\n",
        "Постройте кривые Ван дер Ваальса $p-V$ для некоторых газов, вошедших в таблицу. В частности, сравните кривые Ван дер Ваальса для $CO_2$ и $He$ с уравнением состояния идеального газа."
      ]
    },
    {
      "cell_type": "code",
      "metadata": {
        "id": "vv3BNeIT0lYr"
      },
      "source": [
        "p_VW2 = lambda V,T, a, b: R*T/(V-b) - a/(V**2)"
      ],
      "execution_count": null,
      "outputs": []
    },
    {
      "cell_type": "code",
      "metadata": {
        "id": "4_W9YnERTdq_"
      },
      "source": [
        "vw_param = {\n",
        "    'substance': ['C_2H_2', 'NH_3', 'Ar', 'CO_2'],\n",
        "    'a': [4.40, 4.18, 1.34, 3.59],\n",
        "    'b': [0.0514, 0.0514, 0.0322, 0.0427],\n",
        "    }"
      ],
      "execution_count": null,
      "outputs": []
    },
    {
      "cell_type": "code",
      "metadata": {
        "colab": {
          "base_uri": "https://localhost:8080/",
          "height": 204
        },
        "id": "guaAEe6Bz6yI",
        "outputId": "cd28415d-de02-446e-959a-394c2a2001a7"
      },
      "source": [
        "df_1 = pd.DataFrame.from_dict(vw_param)\n",
        "df_1 = df_1.set_index('substance')\n",
        "df_1"
      ],
      "execution_count": null,
      "outputs": [
        {
          "output_type": "execute_result",
          "data": {
            "text/html": [
              "<div>\n",
              "<style scoped>\n",
              "    .dataframe tbody tr th:only-of-type {\n",
              "        vertical-align: middle;\n",
              "    }\n",
              "\n",
              "    .dataframe tbody tr th {\n",
              "        vertical-align: top;\n",
              "    }\n",
              "\n",
              "    .dataframe thead th {\n",
              "        text-align: right;\n",
              "    }\n",
              "</style>\n",
              "<table border=\"1\" class=\"dataframe\">\n",
              "  <thead>\n",
              "    <tr style=\"text-align: right;\">\n",
              "      <th></th>\n",
              "      <th>a</th>\n",
              "      <th>b</th>\n",
              "    </tr>\n",
              "    <tr>\n",
              "      <th>substance</th>\n",
              "      <th></th>\n",
              "      <th></th>\n",
              "    </tr>\n",
              "  </thead>\n",
              "  <tbody>\n",
              "    <tr>\n",
              "      <th>C_2H_2</th>\n",
              "      <td>4.40</td>\n",
              "      <td>0.0514</td>\n",
              "    </tr>\n",
              "    <tr>\n",
              "      <th>NH_3</th>\n",
              "      <td>4.18</td>\n",
              "      <td>0.0514</td>\n",
              "    </tr>\n",
              "    <tr>\n",
              "      <th>Ar</th>\n",
              "      <td>1.34</td>\n",
              "      <td>0.0322</td>\n",
              "    </tr>\n",
              "    <tr>\n",
              "      <th>CO_2</th>\n",
              "      <td>3.59</td>\n",
              "      <td>0.0427</td>\n",
              "    </tr>\n",
              "  </tbody>\n",
              "</table>\n",
              "</div>"
            ],
            "text/plain": [
              "              a       b\n",
              "substance              \n",
              "C_2H_2     4.40  0.0514\n",
              "NH_3       4.18  0.0514\n",
              "Ar         1.34  0.0322\n",
              "CO_2       3.59  0.0427"
            ]
          },
          "metadata": {
            "tags": []
          },
          "execution_count": 16
        }
      ]
    },
    {
      "cell_type": "code",
      "metadata": {
        "colab": {
          "base_uri": "https://localhost:8080/"
        },
        "id": "27dTI8rZ24B5",
        "outputId": "affc0a73-7e73-492b-b282-243c76f558eb"
      },
      "source": [
        "df_1.loc['C_2H_2', 'a']"
      ],
      "execution_count": null,
      "outputs": [
        {
          "output_type": "execute_result",
          "data": {
            "text/plain": [
              "4.4"
            ]
          },
          "metadata": {
            "tags": []
          },
          "execution_count": 17
        }
      ]
    },
    {
      "cell_type": "code",
      "metadata": {
        "id": "v3oO3Y3Pzsp-"
      },
      "source": [
        "p_VW2(V, 310, df_1.loc['C_2H_2', 'a'], df_1.loc['C_2H_2', 'b']);"
      ],
      "execution_count": null,
      "outputs": []
    },
    {
      "cell_type": "code",
      "metadata": {
        "colab": {
          "base_uri": "https://localhost:8080/",
          "height": 442
        },
        "id": "5aUk7ifb3Frf",
        "outputId": "3375c45c-d943-40d2-b455-32c6d9b39da7"
      },
      "source": [
        "plt.figure(figsize=(15,7))\n",
        "plt.plot(V, p_VW2(V, 320, df_1.loc['Ar', 'a'], df_1.loc['Ar', 'b']),label='ВДВ: Ar T=320 K')\n",
        "plt.plot(V, p_VW2(V, 320, df_1.loc['NH_3', 'a'], df_1.loc['NH_3', 'b']), label='ВДВ:NH_3 T=320 K')\n",
        "plt.plot(V, p_VW2(V, 320, df_1.loc['CO_2', 'a'], df_1.loc['CO_2', 'b']), label='ВДВ:CO_2 T=150 K')\n",
        "plt.plot(V, p_VW2(V, 320, df_1.loc['C_2H_2', 'a'], df_1.loc['C_2H_2', 'b']), label='ВДВ: C_2H_2 T=128 K')\n",
        "\n",
        "plt.legend()\n",
        "plt.xlabel('V, л')\n",
        "plt.ylabel('p, атм');"
      ],
      "execution_count": null,
      "outputs": [
        {
          "output_type": "display_data",
          "data": {
            "image/png": "[encoded data removed]",
            "text/plain": [
              "<Figure size 1080x504 with 1 Axes>"
            ]
          },
          "metadata": {
            "tags": [],
            "needs_background": "light"
          }
        }
      ]
    },
    {
      "cell_type": "code",
      "metadata": {
        "id": "HCirxEmATki4",
        "colab": {
          "base_uri": "https://localhost:8080/",
          "height": 130
        },
        "outputId": "9404a21f-4059-4b96-a068-099b2349717c"
      },
      "source": [
        "𝐶2𝐻2 \t4,40\t0,0514\n",
        "𝑁𝐻3 \t4,18\t0,0371\n",
        "Аргон\t𝐴𝑟\t1,34\t0,0322\n",
        "Диоксид углерода\t𝐶𝑂2\t3,59\t0,0427"
      ],
      "execution_count": null,
      "outputs": [
        {
          "output_type": "error",
          "ename": "SyntaxError",
          "evalue": "ignored",
          "traceback": [
            "\u001b[0;36m  File \u001b[0;32m\"<ipython-input-20-f7b6f2c2e0db>\"\u001b[0;36m, line \u001b[0;32m1\u001b[0m\n\u001b[0;31m    𝐶2𝐻2 \t4,40\t0,0514\u001b[0m\n\u001b[0m         \t^\u001b[0m\n\u001b[0;31mSyntaxError\u001b[0m\u001b[0;31m:\u001b[0m invalid syntax\n"
          ]
        }
      ]
    },
    {
      "cell_type": "markdown",
      "metadata": {
        "id": "cI7fGIB1qeST"
      },
      "source": [
        "**Задача**\n",
        "\n",
        "С появлением уравнения Ван дер Ваальса появилась возможность описывать поведение газов с гораздо лучшим приближением по сравнению с тем, что давало уравнение идеального газа, однако применимость уравнения Ван дер Ваальса тоже ограничена. Сравните следующие экспериментальные данные со значениеми, предсказываемые на основе уравнения Ван дер Ваальса для 1 моля $CO_2$ при $T=40^\\circ C$:"
      ]
    },
    {
      "cell_type": "code",
      "metadata": {
        "colab": {
          "base_uri": "https://localhost:8080/",
          "height": 328
        },
        "id": "OXhBxheHJyKB",
        "outputId": "0f81f58e-4157-4908-afdc-77a1e6384424"
      },
      "source": [
        "p=[1, 10, 25, 50, 80, 100, 200, 500, 1000] # атм\n",
        "V = [25.574, 2.440, 0.9, 0.38, 0.1187, 0.0693, 0.0525, 0.0440, 0.0400] # л/моль\n",
        "\n",
        "df = pd.DataFrame(list(zip(p, V)), columns=['p', 'V_m'])\n",
        "df"
      ],
      "execution_count": null,
      "outputs": [
        {
          "output_type": "execute_result",
          "data": {
            "text/html": [
              "<div>\n",
              "<style scoped>\n",
              "    .dataframe tbody tr th:only-of-type {\n",
              "        vertical-align: middle;\n",
              "    }\n",
              "\n",
              "    .dataframe tbody tr th {\n",
              "        vertical-align: top;\n",
              "    }\n",
              "\n",
              "    .dataframe thead th {\n",
              "        text-align: right;\n",
              "    }\n",
              "</style>\n",
              "<table border=\"1\" class=\"dataframe\">\n",
              "  <thead>\n",
              "    <tr style=\"text-align: right;\">\n",
              "      <th></th>\n",
              "      <th>p</th>\n",
              "      <th>V_m</th>\n",
              "    </tr>\n",
              "  </thead>\n",
              "  <tbody>\n",
              "    <tr>\n",
              "      <th>0</th>\n",
              "      <td>1</td>\n",
              "      <td>25.5740</td>\n",
              "    </tr>\n",
              "    <tr>\n",
              "      <th>1</th>\n",
              "      <td>10</td>\n",
              "      <td>2.4400</td>\n",
              "    </tr>\n",
              "    <tr>\n",
              "      <th>2</th>\n",
              "      <td>25</td>\n",
              "      <td>0.9000</td>\n",
              "    </tr>\n",
              "    <tr>\n",
              "      <th>3</th>\n",
              "      <td>50</td>\n",
              "      <td>0.3800</td>\n",
              "    </tr>\n",
              "    <tr>\n",
              "      <th>4</th>\n",
              "      <td>80</td>\n",
              "      <td>0.1187</td>\n",
              "    </tr>\n",
              "    <tr>\n",
              "      <th>5</th>\n",
              "      <td>100</td>\n",
              "      <td>0.0693</td>\n",
              "    </tr>\n",
              "    <tr>\n",
              "      <th>6</th>\n",
              "      <td>200</td>\n",
              "      <td>0.0525</td>\n",
              "    </tr>\n",
              "    <tr>\n",
              "      <th>7</th>\n",
              "      <td>500</td>\n",
              "      <td>0.0440</td>\n",
              "    </tr>\n",
              "    <tr>\n",
              "      <th>8</th>\n",
              "      <td>1000</td>\n",
              "      <td>0.0400</td>\n",
              "    </tr>\n",
              "  </tbody>\n",
              "</table>\n",
              "</div>"
            ],
            "text/plain": [
              "      p      V_m\n",
              "0     1  25.5740\n",
              "1    10   2.4400\n",
              "2    25   0.9000\n",
              "3    50   0.3800\n",
              "4    80   0.1187\n",
              "5   100   0.0693\n",
              "6   200   0.0525\n",
              "7   500   0.0440\n",
              "8  1000   0.0400"
            ]
          },
          "metadata": {
            "tags": []
          },
          "execution_count": 21
        }
      ]
    },
    {
      "cell_type": "code",
      "metadata": {
        "id": "LczLt8nuMA5F"
      },
      "source": [
        "df['p_VW'] = p_VW(df['V_m'], 273.15+40)"
      ],
      "execution_count": null,
      "outputs": []
    },
    {
      "cell_type": "code",
      "metadata": {
        "colab": {
          "base_uri": "https://localhost:8080/",
          "height": 328
        },
        "id": "2Bb1QNogMVCM",
        "outputId": "e7474722-0552-41a3-d7f1-8f8e0d2ad569"
      },
      "source": [
        "df"
      ],
      "execution_count": null,
      "outputs": [
        {
          "output_type": "execute_result",
          "data": {
            "text/html": [
              "<div>\n",
              "<style scoped>\n",
              "    .dataframe tbody tr th:only-of-type {\n",
              "        vertical-align: middle;\n",
              "    }\n",
              "\n",
              "    .dataframe tbody tr th {\n",
              "        vertical-align: top;\n",
              "    }\n",
              "\n",
              "    .dataframe thead th {\n",
              "        text-align: right;\n",
              "    }\n",
              "</style>\n",
              "<table border=\"1\" class=\"dataframe\">\n",
              "  <thead>\n",
              "    <tr style=\"text-align: right;\">\n",
              "      <th></th>\n",
              "      <th>p</th>\n",
              "      <th>V_m</th>\n",
              "      <th>p_VW</th>\n",
              "    </tr>\n",
              "  </thead>\n",
              "  <tbody>\n",
              "    <tr>\n",
              "      <th>0</th>\n",
              "      <td>1</td>\n",
              "      <td>25.5740</td>\n",
              "      <td>1.013760</td>\n",
              "    </tr>\n",
              "    <tr>\n",
              "      <th>1</th>\n",
              "      <td>10</td>\n",
              "      <td>2.4400</td>\n",
              "      <td>10.252034</td>\n",
              "    </tr>\n",
              "    <tr>\n",
              "      <th>2</th>\n",
              "      <td>25</td>\n",
              "      <td>0.9000</td>\n",
              "      <td>25.922229</td>\n",
              "    </tr>\n",
              "    <tr>\n",
              "      <th>3</th>\n",
              "      <td>50</td>\n",
              "      <td>0.3800</td>\n",
              "      <td>52.288712</td>\n",
              "    </tr>\n",
              "    <tr>\n",
              "      <th>4</th>\n",
              "      <td>80</td>\n",
              "      <td>0.1187</td>\n",
              "      <td>87.608565</td>\n",
              "    </tr>\n",
              "    <tr>\n",
              "      <th>5</th>\n",
              "      <td>100</td>\n",
              "      <td>0.0693</td>\n",
              "      <td>230.770550</td>\n",
              "    </tr>\n",
              "    <tr>\n",
              "      <th>6</th>\n",
              "      <td>200</td>\n",
              "      <td>0.0525</td>\n",
              "      <td>1352.889853</td>\n",
              "    </tr>\n",
              "    <tr>\n",
              "      <th>7</th>\n",
              "      <td>500</td>\n",
              "      <td>0.0440</td>\n",
              "      <td>18163.172695</td>\n",
              "    </tr>\n",
              "    <tr>\n",
              "      <th>8</th>\n",
              "      <td>1000</td>\n",
              "      <td>0.0400</td>\n",
              "      <td>-11881.811111</td>\n",
              "    </tr>\n",
              "  </tbody>\n",
              "</table>\n",
              "</div>"
            ],
            "text/plain": [
              "      p      V_m          p_VW\n",
              "0     1  25.5740      1.013760\n",
              "1    10   2.4400     10.252034\n",
              "2    25   0.9000     25.922229\n",
              "3    50   0.3800     52.288712\n",
              "4    80   0.1187     87.608565\n",
              "5   100   0.0693    230.770550\n",
              "6   200   0.0525   1352.889853\n",
              "7   500   0.0440  18163.172695\n",
              "8  1000   0.0400 -11881.811111"
            ]
          },
          "metadata": {
            "tags": []
          },
          "execution_count": 23
        }
      ]
    },
    {
      "cell_type": "code",
      "metadata": {
        "colab": {
          "base_uri": "https://localhost:8080/",
          "height": 328
        },
        "id": "TLaGwdgYNEAR",
        "outputId": "9e467e4c-83c2-407d-dc07-186bc50cd043"
      },
      "source": [
        "df['error'] = round(abs(df['p_VW']-df['p'])/df['p'] * 100, 2)\n",
        "df"
      ],
      "execution_count": null,
      "outputs": [
        {
          "output_type": "execute_result",
          "data": {
            "text/html": [
              "<div>\n",
              "<style scoped>\n",
              "    .dataframe tbody tr th:only-of-type {\n",
              "        vertical-align: middle;\n",
              "    }\n",
              "\n",
              "    .dataframe tbody tr th {\n",
              "        vertical-align: top;\n",
              "    }\n",
              "\n",
              "    .dataframe thead th {\n",
              "        text-align: right;\n",
              "    }\n",
              "</style>\n",
              "<table border=\"1\" class=\"dataframe\">\n",
              "  <thead>\n",
              "    <tr style=\"text-align: right;\">\n",
              "      <th></th>\n",
              "      <th>p</th>\n",
              "      <th>V_m</th>\n",
              "      <th>p_VW</th>\n",
              "      <th>error</th>\n",
              "    </tr>\n",
              "  </thead>\n",
              "  <tbody>\n",
              "    <tr>\n",
              "      <th>0</th>\n",
              "      <td>1</td>\n",
              "      <td>25.5740</td>\n",
              "      <td>1.013760</td>\n",
              "      <td>1.38</td>\n",
              "    </tr>\n",
              "    <tr>\n",
              "      <th>1</th>\n",
              "      <td>10</td>\n",
              "      <td>2.4400</td>\n",
              "      <td>10.252034</td>\n",
              "      <td>2.52</td>\n",
              "    </tr>\n",
              "    <tr>\n",
              "      <th>2</th>\n",
              "      <td>25</td>\n",
              "      <td>0.9000</td>\n",
              "      <td>25.922229</td>\n",
              "      <td>3.69</td>\n",
              "    </tr>\n",
              "    <tr>\n",
              "      <th>3</th>\n",
              "      <td>50</td>\n",
              "      <td>0.3800</td>\n",
              "      <td>52.288712</td>\n",
              "      <td>4.58</td>\n",
              "    </tr>\n",
              "    <tr>\n",
              "      <th>4</th>\n",
              "      <td>80</td>\n",
              "      <td>0.1187</td>\n",
              "      <td>87.608565</td>\n",
              "      <td>9.51</td>\n",
              "    </tr>\n",
              "    <tr>\n",
              "      <th>5</th>\n",
              "      <td>100</td>\n",
              "      <td>0.0693</td>\n",
              "      <td>230.770550</td>\n",
              "      <td>130.77</td>\n",
              "    </tr>\n",
              "    <tr>\n",
              "      <th>6</th>\n",
              "      <td>200</td>\n",
              "      <td>0.0525</td>\n",
              "      <td>1352.889853</td>\n",
              "      <td>576.44</td>\n",
              "    </tr>\n",
              "    <tr>\n",
              "      <th>7</th>\n",
              "      <td>500</td>\n",
              "      <td>0.0440</td>\n",
              "      <td>18163.172695</td>\n",
              "      <td>3532.63</td>\n",
              "    </tr>\n",
              "    <tr>\n",
              "      <th>8</th>\n",
              "      <td>1000</td>\n",
              "      <td>0.0400</td>\n",
              "      <td>-11881.811111</td>\n",
              "      <td>1288.18</td>\n",
              "    </tr>\n",
              "  </tbody>\n",
              "</table>\n",
              "</div>"
            ],
            "text/plain": [
              "      p      V_m          p_VW    error\n",
              "0     1  25.5740      1.013760     1.38\n",
              "1    10   2.4400     10.252034     2.52\n",
              "2    25   0.9000     25.922229     3.69\n",
              "3    50   0.3800     52.288712     4.58\n",
              "4    80   0.1187     87.608565     9.51\n",
              "5   100   0.0693    230.770550   130.77\n",
              "6   200   0.0525   1352.889853   576.44\n",
              "7   500   0.0440  18163.172695  3532.63\n",
              "8  1000   0.0400 -11881.811111  1288.18"
            ]
          },
          "metadata": {
            "tags": []
          },
          "execution_count": 24
        }
      ]
    },
    {
      "cell_type": "code",
      "metadata": {
        "id": "1N2xnEszLnlY"
      },
      "source": [
        "V = np.arange(b, 25, 0.001)"
      ],
      "execution_count": null,
      "outputs": []
    },
    {
      "cell_type": "code",
      "metadata": {
        "colab": {
          "base_uri": "https://localhost:8080/",
          "height": 479
        },
        "id": "V0RshuSULGyj",
        "outputId": "47055950-3618-448b-e488-7dc43a55bb5f"
      },
      "source": [
        "plt.figure(figsize=(15,7))\n",
        "plt.plot(df['V_m'], df['p'])\n",
        "plt.plot(V, p_VW(V, 273.15+40))"
      ],
      "execution_count": null,
      "outputs": [
        {
          "output_type": "stream",
          "text": [
            "/usr/local/lib/python3.6/dist-packages/ipykernel_launcher.py:1: RuntimeWarning: divide by zero encountered in true_divide\n",
            "  \"\"\"Entry point for launching an IPython kernel.\n"
          ],
          "name": "stderr"
        },
        {
          "output_type": "execute_result",
          "data": {
            "text/plain": [
              "[<matplotlib.lines.Line2D at 0x7f6bc4e93e10>]"
            ]
          },
          "metadata": {
            "tags": []
          },
          "execution_count": 26
        },
        {
          "output_type": "display_data",
          "data": {
            "image/png": "[encoded data removed]",
            "text/plain": [
              "<Figure size 1080x504 with 1 Axes>"
            ]
          },
          "metadata": {
            "tags": [],
            "needs_background": "light"
          }
        }
      ]
    },
    {
      "cell_type": "markdown",
      "metadata": {
        "id": "sQD4sn1kKk77"
      },
      "source": [
        "## Вычисление критических параметров"
      ]
    },
    {
      "cell_type": "code",
      "metadata": {
        "id": "8LwCtusrKuIi"
      },
      "source": [
        "pc = a/(27*b**2)     # критическое давление\n",
        "Tc = (8*a)/(27*b*R)  # критическая температура\n",
        "Vc = 3*b             # критический объем"
      ],
      "execution_count": null,
      "outputs": []
    },
    {
      "cell_type": "code",
      "metadata": {
        "colab": {
          "base_uri": "https://localhost:8080/"
        },
        "id": "d3SpJMjjLWO2",
        "outputId": "4b8151fb-fc5f-4655-8bf6-cdf194f49611"
      },
      "source": [
        "print('Критическиое давление pc = {0:.3f} атм'.format(pc))"
      ],
      "execution_count": null,
      "outputs": [
        {
          "output_type": "stream",
          "text": [
            "Критическиое давление pc = 72.925 атм\n"
          ],
          "name": "stdout"
        }
      ]
    },
    {
      "cell_type": "code",
      "metadata": {
        "colab": {
          "base_uri": "https://localhost:8080/"
        },
        "id": "3clwiSFdLXZn",
        "outputId": "78e45324-0764-43fc-c654-691d7014cefb"
      },
      "source": [
        "print('Критическая температура Tc = {0:.3f} K'.format(Tc))"
      ],
      "execution_count": null,
      "outputs": [
        {
          "output_type": "stream",
          "text": [
            "Критическая температура Tc = 299.772 K\n"
          ],
          "name": "stdout"
        }
      ]
    },
    {
      "cell_type": "code",
      "metadata": {
        "colab": {
          "base_uri": "https://localhost:8080/"
        },
        "id": "WPcslcn5T2sW",
        "outputId": "e02b2906-0917-4b74-84cb-512af1c6a30c"
      },
      "source": [
        "print('Критический объем Vc = {0:.3f} л'.format(Vc))"
      ],
      "execution_count": null,
      "outputs": [
        {
          "output_type": "stream",
          "text": [
            "Критический объем Vc = 0.128 л\n"
          ],
          "name": "stdout"
        }
      ]
    },
    {
      "cell_type": "code",
      "metadata": {
        "id": "5uRoVDT6GE4R"
      },
      "source": [
        "V = np.arange(0.07, 0.24, 0.001)"
      ],
      "execution_count": null,
      "outputs": []
    },
    {
      "cell_type": "code",
      "metadata": {
        "colab": {
          "base_uri": "https://localhost:8080/",
          "height": 442
        },
        "id": "2kzhiVaRT3_R",
        "outputId": "b70854b0-ad37-4f22-c610-209605afd976"
      },
      "source": [
        "plt.figure(figsize=(15,7))\n",
        "plt.plot(V, p_VW(V, 320), label='ВдВ: T=320 K')\n",
        "plt.plot(V, p_VW(V, Tc), label='ВдВ: Tc={0:.3f} К'.format(Tc))\n",
        "plt.plot(V, p_VW(V, 260), label='ВдВ: T=260 К')\n",
        "\n",
        "plt.plot(V, np.ones(len(V))*pc, '--', label='$p_c$')\n",
        "\n",
        "plt.legend()\n",
        "plt.xlabel('V, л')\n",
        "plt.ylabel('p, атм')\n",
        "plt.grid()"
      ],
      "execution_count": null,
      "outputs": [
        {
          "output_type": "display_data",
          "data": {
            "image/png": "[encoded data removed]",
            "text/plain": [
              "<Figure size 1080x504 with 1 Axes>"
            ]
          },
          "metadata": {
            "tags": [],
            "needs_background": "light"
          }
        }
      ]
    },
    {
      "cell_type": "markdown",
      "metadata": {
        "id": "MK9rIKOtJCYg"
      },
      "source": [
        "При $T<Tc$ существует область, в которой при заданном давлении p объем V не определяется однозначно уравнением Ван дер Ваальса. В этой области газ превращается в жидкость. "
      ]
    },
    {
      "cell_type": "markdown",
      "metadata": {
        "id": "gNZqcN2CvOQ-"
      },
      "source": [
        "**Задача**\n",
        "\n",
        "Используя данные таблицы, вычислите критические параметры: температуру $T_c$, давление $p_c$ и малярный объем $V_{m,c}$ для $CO_2$, $H_2$ и $CH_4$. Сотавьте программу для вычисления постоянных Ван дер Ваальса a и b для любого газа при заданных $T_c$, $p_c$, $V_{m,c}$."
      ]
    },
    {
      "cell_type": "code",
      "metadata": {
        "id": "hN1bJEh6w8uw"
      },
      "source": [
        ""
      ],
      "execution_count": null,
      "outputs": []
    }
  ]
}